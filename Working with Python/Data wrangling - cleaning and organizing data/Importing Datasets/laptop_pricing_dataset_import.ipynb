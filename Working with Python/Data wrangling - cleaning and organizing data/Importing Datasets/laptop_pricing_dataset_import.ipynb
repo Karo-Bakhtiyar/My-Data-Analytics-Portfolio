{
 "cells": [
  {
   "cell_type": "markdown",
   "id": "167b0414-5972-4ae9-b33a-ebf759b98a8e",
   "metadata": {},
   "source": [
    "# Laptop Pricing Dataset – Data Import & Initial Exploration\n",
    "**Goal:** Import the Laptop Pricing Dataset, Explore it's structure and prepare it for cleaning & analysis phase\n",
    "\n",
    "\n",
    "**Deliverables:** Imported dataset ready for deeper Cleaning & analysis\n"
   ]
  },
  {
   "cell_type": "code",
   "execution_count": null,
   "id": "59a32ab8-85f8-4f4f-a9e9-cf92fcf3f2bd",
   "metadata": {},
   "outputs": [],
   "source": []
  },
  {
   "cell_type": "markdown",
   "id": "71cfde94-dc87-4176-a131-3d11ef14e9a2",
   "metadata": {},
   "source": [
    "### Environment Setup & Data Import\n",
    "#### Load essential Python libraries for data handling, visualization, and numerical operations. Import the dataset for analysis."
   ]
  },
  {
   "cell_type": "code",
   "execution_count": 17,
   "id": "c66b6d4d-d44f-45ba-9a7f-84308effb280",
   "metadata": {},
   "outputs": [
    {
     "data": {
      "text/html": [
       "<div>\n",
       "<style scoped>\n",
       "    .dataframe tbody tr th:only-of-type {\n",
       "        vertical-align: middle;\n",
       "    }\n",
       "\n",
       "    .dataframe tbody tr th {\n",
       "        vertical-align: top;\n",
       "    }\n",
       "\n",
       "    .dataframe thead th {\n",
       "        text-align: right;\n",
       "    }\n",
       "</style>\n",
       "<table border=\"1\" class=\"dataframe\">\n",
       "  <thead>\n",
       "    <tr style=\"text-align: right;\">\n",
       "      <th></th>\n",
       "      <th>Acer</th>\n",
       "      <th>4</th>\n",
       "      <th>IPS Panel</th>\n",
       "      <th>2</th>\n",
       "      <th>1</th>\n",
       "      <th>5</th>\n",
       "      <th>35.56</th>\n",
       "      <th>1.6</th>\n",
       "      <th>8</th>\n",
       "      <th>256</th>\n",
       "      <th>1.6.1</th>\n",
       "      <th>978</th>\n",
       "    </tr>\n",
       "  </thead>\n",
       "  <tbody>\n",
       "    <tr>\n",
       "      <th>0</th>\n",
       "      <td>Dell</td>\n",
       "      <td>3</td>\n",
       "      <td>Full HD</td>\n",
       "      <td>1</td>\n",
       "      <td>1</td>\n",
       "      <td>3</td>\n",
       "      <td>39.624</td>\n",
       "      <td>2.00</td>\n",
       "      <td>4</td>\n",
       "      <td>256</td>\n",
       "      <td>2.2</td>\n",
       "      <td>634</td>\n",
       "    </tr>\n",
       "    <tr>\n",
       "      <th>1</th>\n",
       "      <td>Dell</td>\n",
       "      <td>3</td>\n",
       "      <td>Full HD</td>\n",
       "      <td>1</td>\n",
       "      <td>1</td>\n",
       "      <td>7</td>\n",
       "      <td>39.624</td>\n",
       "      <td>2.70</td>\n",
       "      <td>8</td>\n",
       "      <td>256</td>\n",
       "      <td>2.2</td>\n",
       "      <td>946</td>\n",
       "    </tr>\n",
       "    <tr>\n",
       "      <th>2</th>\n",
       "      <td>Dell</td>\n",
       "      <td>4</td>\n",
       "      <td>IPS Panel</td>\n",
       "      <td>2</td>\n",
       "      <td>1</td>\n",
       "      <td>5</td>\n",
       "      <td>33.782</td>\n",
       "      <td>1.60</td>\n",
       "      <td>8</td>\n",
       "      <td>128</td>\n",
       "      <td>1.22</td>\n",
       "      <td>1244</td>\n",
       "    </tr>\n",
       "    <tr>\n",
       "      <th>3</th>\n",
       "      <td>HP</td>\n",
       "      <td>4</td>\n",
       "      <td>Full HD</td>\n",
       "      <td>2</td>\n",
       "      <td>1</td>\n",
       "      <td>7</td>\n",
       "      <td>39.624</td>\n",
       "      <td>1.80</td>\n",
       "      <td>8</td>\n",
       "      <td>256</td>\n",
       "      <td>1.91</td>\n",
       "      <td>837</td>\n",
       "    </tr>\n",
       "    <tr>\n",
       "      <th>4</th>\n",
       "      <td>Dell</td>\n",
       "      <td>3</td>\n",
       "      <td>Full HD</td>\n",
       "      <td>1</td>\n",
       "      <td>1</td>\n",
       "      <td>5</td>\n",
       "      <td>39.624</td>\n",
       "      <td>1.60</td>\n",
       "      <td>8</td>\n",
       "      <td>256</td>\n",
       "      <td>2.2</td>\n",
       "      <td>1016</td>\n",
       "    </tr>\n",
       "  </tbody>\n",
       "</table>\n",
       "</div>"
      ],
      "text/plain": [
       "   Acer  4  IPS Panel  2  1  5   35.56  1.6  8  256 1.6.1   978\n",
       "0  Dell  3    Full HD  1  1  3  39.624 2.00  4  256   2.2   634\n",
       "1  Dell  3    Full HD  1  1  7  39.624 2.70  8  256   2.2   946\n",
       "2  Dell  4  IPS Panel  2  1  5  33.782 1.60  8  128  1.22  1244\n",
       "3    HP  4    Full HD  2  1  7  39.624 1.80  8  256  1.91   837\n",
       "4  Dell  3    Full HD  1  1  5  39.624 1.60  8  256   2.2  1016"
      ]
     },
     "execution_count": 17,
     "metadata": {},
     "output_type": "execute_result"
    }
   ],
   "source": [
    "# Import core data science/analysis libraries\n",
    "import pandas as pd                  # For data manipulation and analysis\n",
    "import numpy as np                   # For numerical operations\n",
    "import matplotlib.pyplot as plt      # For plotting/visualizations\n",
    "import seaborn as sns                # For advanced and prettier visualizations\n",
    "\n",
    "# Display settings for pandas (make outputs easier to read)\n",
    "pd.set_option('display.max_columns', 100)   # Show up to 100 columns when printing a DataFrame\n",
    "pd.set_option('display.float_format', lambda x: f'{x:,.2f}')  # Format floats with 2 decimals and commas\n",
    "\n",
    "# Define the dataset URL (hosted on IBM Cloud)\n",
    "url = \"https://cf-courses-data.s3.us.cloud-object-storage.appdomain.cloud/IBMDeveloperSkillsNetwork-DA0101EN-Coursera/laptop_pricing_dataset_base.csv\"\n",
    "\n",
    "# Load the dataset directly from the URL into a pandas DataFrame\n",
    "df = pd.read_csv(url)\n",
    "\n",
    "df.to_csv(\"laptops.csv\", index=False)\n",
    "\n",
    "# Display the first 5 rows to preview the dataset structure\n",
    "df.head()"
   ]
  },
  {
   "cell_type": "code",
   "execution_count": null,
   "id": "6e4074e4-b433-4dc7-bc6e-8d3ae9a5f8c8",
   "metadata": {},
   "outputs": [],
   "source": []
  },
  {
   "cell_type": "markdown",
   "id": "0b0362e5-79c7-4904-8b5d-15c5a5f4cf9d",
   "metadata": {},
   "source": [
    "### Custom Header Assignment\n",
    "#### Reload the dataset with manually assigned headers to make the data columns meaningful (e.g., Manufacturer, Category, Screen, OS, CPU, RAM, etc.). This ensures clarity before analysis."
   ]
  },
  {
   "cell_type": "code",
   "execution_count": 21,
   "id": "1050999a-e47b-4df9-bf54-da8c7cc82e0e",
   "metadata": {},
   "outputs": [
    {
     "name": "stdout",
     "output_type": "stream",
     "text": [
      "  Manufacturer  Category     Screen  GPU  OS  CPU_core Screen_Size_inch  \\\n",
      "0         Acer         4  IPS Panel    2   1         5            35.56   \n",
      "1         Dell         3    Full HD    1   1         3           39.624   \n",
      "2         Dell         3    Full HD    1   1         7           39.624   \n",
      "3         Dell         4  IPS Panel    2   1         5           33.782   \n",
      "4           HP         4    Full HD    2   1         7           39.624   \n",
      "5         Dell         3    Full HD    1   1         5           39.624   \n",
      "6           HP         3    Full HD    3   1         5           39.624   \n",
      "7         Acer         3  IPS Panel    2   1         5             38.1   \n",
      "8         Dell         3    Full HD    1   1         5           39.624   \n",
      "9         Acer         3  IPS Panel    3   1         7             38.1   \n",
      "\n",
      "   CPU_frequency  RAM_GB  Storage_GB_SSD Weight_kg  Price  \n",
      "0           1.60       8             256     1.6.1    978  \n",
      "1           2.00       4             256       2.2    634  \n",
      "2           2.70       8             256       2.2    946  \n",
      "3           1.60       8             128      1.22   1244  \n",
      "4           1.80       8             256      1.91    837  \n",
      "5           1.60       8             256       2.2   1016  \n",
      "6           1.60       8             256       2.1   1117  \n",
      "7           1.60       4             256       2.2    866  \n",
      "8           2.50       4             256       2.3    812  \n",
      "9           1.80       8             256       2.2   1068  \n"
     ]
    }
   ],
   "source": [
    "import pandas as pd\n",
    "\n",
    "# Load the dataset without headers\n",
    "# 'header=None' tells pandas: \"this CSV does not have a header row, \n",
    "# so treat the first row as data instead of column names\"\n",
    "df = pd.read_csv(\"laptops.csv\", header=None)\n",
    "\n",
    "# Manually assign column names to the DataFrame\n",
    "# These names describe the features of each laptop in the dataset\n",
    "df.columns = [\n",
    "    \"Manufacturer\",       # Brand or company (e.g., Dell, Apple)\n",
    "    \"Category\",           # Type of laptop (e.g., Gaming, Ultrabook)\n",
    "    \"Screen\",             # Screen technology/description\n",
    "    \"GPU\",                # Graphics card details\n",
    "    \"OS\",                 # Operating system (e.g., Windows, macOS)\n",
    "    \"CPU_core\",           # Number of CPU cores\n",
    "    \"Screen_Size_inch\",   # Display size in inches\n",
    "    \"CPU_frequency\",      # Processor speed\n",
    "    \"RAM_GB\",             # RAM capacity in gigabytes\n",
    "    \"Storage_GB_SSD\",     # Storage capacity in GB (often SSD/HDD)\n",
    "    \"Weight_kg\",          # Laptop weight in kilograms\n",
    "    \"Price\"               # Laptop price\n",
    "]\n",
    "\n",
    "# Display the first 10 rows to confirm the headers are correctly applied\n",
    "print(df.head(10))\n"
   ]
  },
  {
   "cell_type": "code",
   "execution_count": null,
   "id": "5fe4755d-e0c9-4b76-b6f1-538af0907ecf",
   "metadata": {},
   "outputs": [],
   "source": []
  },
  {
   "cell_type": "markdown",
   "id": "6610e971-f21f-44bd-9e69-bac5a37941a0",
   "metadata": {},
   "source": [
    "### Missing Value Handling\n",
    "#### Replace placeholder symbols (?) with proper NaN values to ensure accurate handling of missing data during analysis."
   ]
  },
  {
   "cell_type": "code",
   "execution_count": 22,
   "id": "21b0c882-cf16-4a6f-aa22-9e900f998f02",
   "metadata": {},
   "outputs": [
    {
     "name": "stdout",
     "output_type": "stream",
     "text": [
      "  Manufacturer  Category     Screen  GPU  OS  CPU_core Screen_Size_inch  \\\n",
      "0         Acer         4  IPS Panel    2   1         5            35.56   \n",
      "1         Dell         3    Full HD    1   1         3           39.624   \n",
      "2         Dell         3    Full HD    1   1         7           39.624   \n",
      "3         Dell         4  IPS Panel    2   1         5           33.782   \n",
      "4           HP         4    Full HD    2   1         7           39.624   \n",
      "5         Dell         3    Full HD    1   1         5           39.624   \n",
      "6           HP         3    Full HD    3   1         5           39.624   \n",
      "7         Acer         3  IPS Panel    2   1         5             38.1   \n",
      "8         Dell         3    Full HD    1   1         5           39.624   \n",
      "9         Acer         3  IPS Panel    3   1         7             38.1   \n",
      "\n",
      "   CPU_frequency  RAM_GB  Storage_GB_SSD Weight_kg  Price  \n",
      "0           1.60       8             256     1.6.1    978  \n",
      "1           2.00       4             256       2.2    634  \n",
      "2           2.70       8             256       2.2    946  \n",
      "3           1.60       8             128      1.22   1244  \n",
      "4           1.80       8             256      1.91    837  \n",
      "5           1.60       8             256       2.2   1016  \n",
      "6           1.60       8             256       2.1   1117  \n",
      "7           1.60       4             256       2.2    866  \n",
      "8           2.50       4             256       2.3    812  \n",
      "9           1.80       8             256       2.2   1068  \n"
     ]
    }
   ],
   "source": [
    "# Import NumPy (needed for np.nan)\n",
    "import numpy as np\n",
    "\n",
    "# Replace all occurrences of '?' with NaN (Not a Number)\n",
    "# inplace=True means the changes are applied directly to df (no need to reassign)\n",
    "df.replace('?', np.nan, inplace=True)\n",
    "\n",
    "# Display the first 10 rows to confirm replacement worked\n",
    "print(df.head(10))\n"
   ]
  },
  {
   "cell_type": "code",
   "execution_count": null,
   "id": "347d31e0-c608-4fad-92fe-2a0279125922",
   "metadata": {},
   "outputs": [],
   "source": []
  },
  {
   "cell_type": "markdown",
   "id": "22104aef-8a2f-479d-83e5-dce862ffa202",
   "metadata": {},
   "source": [
    "### Data Type Inspection\n",
    "#### Examines and prints the data types of each column in the dataset to understand the structure of the data and identify any necessary type conversions for analysis."
   ]
  },
  {
   "cell_type": "code",
   "execution_count": 23,
   "id": "a22ad4b8-3e09-4c30-b8a7-a6c6ba6c8a06",
   "metadata": {},
   "outputs": [
    {
     "name": "stdout",
     "output_type": "stream",
     "text": [
      "Manufacturer         object\n",
      "Category              int64\n",
      "Screen               object\n",
      "GPU                   int64\n",
      "OS                    int64\n",
      "CPU_core              int64\n",
      "Screen_Size_inch     object\n",
      "CPU_frequency       float64\n",
      "RAM_GB                int64\n",
      "Storage_GB_SSD        int64\n",
      "Weight_kg            object\n",
      "Price                 int64\n",
      "dtype: object\n"
     ]
    }
   ],
   "source": [
    "# Print data types of all columns\n",
    "# The dtypes attribute returns a Series with the data type of each column\n",
    "print(df.dtypes)"
   ]
  },
  {
   "cell_type": "code",
   "execution_count": null,
   "id": "c7e24665-4140-4a79-82c2-ba83451a4b56",
   "metadata": {},
   "outputs": [],
   "source": []
  },
  {
   "cell_type": "markdown",
   "id": "c76682fa-2874-4b54-86bb-cf6287ab3225",
   "metadata": {},
   "source": [
    "### Descriptive Statistics\n",
    "#### Generate summary statistics for numerical feature and categorical features"
   ]
  },
  {
   "cell_type": "code",
   "execution_count": 24,
   "id": "310abb56-1b9c-4a1f-a30f-1efbed8e569b",
   "metadata": {},
   "outputs": [
    {
     "name": "stdout",
     "output_type": "stream",
     "text": [
      "       Category    GPU     OS  CPU_core  CPU_frequency  RAM_GB  \\\n",
      "count    238.00 238.00 238.00    238.00         238.00  238.00   \n",
      "mean       3.21   2.15   1.06      5.63           2.36    7.88   \n",
      "std        0.78   0.64   0.24      1.24           0.41    2.48   \n",
      "min        1.00   1.00   1.00      3.00           1.20    4.00   \n",
      "25%        3.00   2.00   1.00      5.00           2.00    8.00   \n",
      "50%        3.00   2.00   1.00      5.00           2.50    8.00   \n",
      "75%        4.00   3.00   1.00      7.00           2.70    8.00   \n",
      "max        5.00   3.00   2.00      7.00           2.90   16.00   \n",
      "\n",
      "       Storage_GB_SSD    Price  \n",
      "count          238.00   238.00  \n",
      "mean           245.78 1,462.34  \n",
      "std             34.77   574.61  \n",
      "min            128.00   527.00  \n",
      "25%            256.00 1,066.50  \n",
      "50%            256.00 1,333.00  \n",
      "75%            256.00 1,777.00  \n",
      "max            256.00 3,810.00  \n",
      "       Manufacturer   Screen Screen_Size_inch Weight_kg\n",
      "count           238      238              234       233\n",
      "unique           11        2                9        78\n",
      "top            Dell  Full HD           39.624       2.2\n",
      "freq             71      161               89        21\n"
     ]
    }
   ],
   "source": [
    "# Statistical description for numeric columns\n",
    "# describe() provides summary statistics for numerical columns by default\n",
    "# Includes count, mean, std, min, quartiles, and max\n",
    "print(df.describe())\n",
    "\n",
    "# Statistical description including object (categorical) columns\n",
    "# Using include='object' parameter to get statistics for categorical columns\n",
    "# Includes count, unique values, top (most frequent), and frequency\n",
    "print(df.describe(include='object'))"
   ]
  },
  {
   "cell_type": "code",
   "execution_count": null,
   "id": "c77d0717-c8e5-4621-8421-57b9fae0267f",
   "metadata": {},
   "outputs": [],
   "source": []
  },
  {
   "cell_type": "markdown",
   "id": "e85f820c-a448-4d7a-85af-7440bdf4057f",
   "metadata": {},
   "source": [
    "### Dataset Structure Overview\n",
    "#### Provides comprehensive overview of dataframe structure and data quality.\n"
   ]
  },
  {
   "cell_type": "code",
   "execution_count": 25,
   "id": "45cc19c1-5b7b-40b5-b4ab-30913bf58a6d",
   "metadata": {},
   "outputs": [
    {
     "name": "stdout",
     "output_type": "stream",
     "text": [
      "<class 'pandas.core.frame.DataFrame'>\n",
      "RangeIndex: 238 entries, 0 to 237\n",
      "Data columns (total 12 columns):\n",
      " #   Column            Non-Null Count  Dtype  \n",
      "---  ------            --------------  -----  \n",
      " 0   Manufacturer      238 non-null    object \n",
      " 1   Category          238 non-null    int64  \n",
      " 2   Screen            238 non-null    object \n",
      " 3   GPU               238 non-null    int64  \n",
      " 4   OS                238 non-null    int64  \n",
      " 5   CPU_core          238 non-null    int64  \n",
      " 6   Screen_Size_inch  234 non-null    object \n",
      " 7   CPU_frequency     238 non-null    float64\n",
      " 8   RAM_GB            238 non-null    int64  \n",
      " 9   Storage_GB_SSD    238 non-null    int64  \n",
      " 10  Weight_kg         233 non-null    object \n",
      " 11  Price             238 non-null    int64  \n",
      "dtypes: float64(1), int64(7), object(4)\n",
      "memory usage: 22.4+ KB\n",
      "None\n"
     ]
    }
   ],
   "source": [
    "# Print summary information of the dataset\n",
    "# The info() method provides a concise summary of the DataFrame\n",
    "print(df.info())"
   ]
  },
  {
   "cell_type": "code",
   "execution_count": null,
   "id": "2ffdb588-1e2c-4c97-b2e2-cb54f8e56688",
   "metadata": {},
   "outputs": [],
   "source": []
  }
 ],
 "metadata": {
  "kernelspec": {
   "display_name": "Python 3 (ipykernel)",
   "language": "python",
   "name": "python3"
  },
  "language_info": {
   "codemirror_mode": {
    "name": "ipython",
    "version": 3
   },
   "file_extension": ".py",
   "mimetype": "text/x-python",
   "name": "python",
   "nbconvert_exporter": "python",
   "pygments_lexer": "ipython3",
   "version": "3.13.5"
  }
 },
 "nbformat": 4,
 "nbformat_minor": 5
}
