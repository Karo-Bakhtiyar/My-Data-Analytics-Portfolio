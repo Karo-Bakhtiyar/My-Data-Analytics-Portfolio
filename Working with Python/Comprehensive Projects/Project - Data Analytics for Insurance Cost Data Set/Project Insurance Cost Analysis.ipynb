{
 "cells": [
  {
   "cell_type": "markdown",
   "id": "6619fd98-c46b-4bb2-85d7-f9be0fa8a621",
   "metadata": {},
   "source": [
    "# Project: Insurance Cost Analysis"
   ]
  },
  {
   "cell_type": "markdown",
   "id": "0fbea0c3-7408-462f-9b76-6191f7e9f49f",
   "metadata": {},
   "source": [
    "In this project, i will perform analytics operations on an insurance database that uses the below mentioned parameters."
   ]
  },
  {
   "cell_type": "markdown",
   "id": "dcedd313-abc4-4f47-bed6-f8540ec884ff",
   "metadata": {},
   "source": [
    "# **Practice Project: Insurance Cost Analysis**\n",
    "\n",
    "Estimated time needed: **75** minutes\n",
    "\n",
    "In this project, you have to perform analytics operations on an insurance database that uses the below mentioned parameters.\n",
    "\n",
    "| Parameter |Description| Content type |\n",
    "|---|----|---|\n",
    "|age| Age in years| integer |\n",
    "|gender| Male or Female|integer (1 or 2)|\n",
    "| bmi | Body mass index | float |\n",
    "|no_of_children| Number of children | integer|\n",
    "|smoker| Whether smoker or not | integer (0 or 1)|\n",
    "|region| Which US region - NW, NE, SW, SE | integer (1,2,3 or 4 respectively)| \n",
    "|charges| Annual Insurance charges in USD | float|\n",
    "\n",
    "## Objectives \n",
    "In this project, i will:\n",
    " - Load the data as a `pandas` dataframe\n",
    " - Clean the data, taking care of the blank entries\n",
    " - Run exploratory data analysis (EDA) and identify the attributes that most affect the `charges`\n",
    " - Develop single variable and multi variable Linear Regression models for predicting the `charges`\n",
    " - Use Ridge regression to refine the performance of Linear regression models. \n",
    " \n"
   ]
  },
  {
   "cell_type": "markdown",
   "id": "61557394-49d0-4f6f-87cc-f47e19e04577",
   "metadata": {},
   "source": [
    "# Setup\n"
   ]
  },
  {
   "cell_type": "markdown",
   "id": "3a525b7c-a9f3-4352-88b3-45cc7e0e3863",
   "metadata": {},
   "source": [
    "For this lab, i will be using the following libraries:\n",
    "* `skillsnetwork` to download the data\n",
    "*   [`pandas`](https://pandas.pydata.org/?utm_medium=Exinfluencer&utm_source=Exinfluencer&utm_content=000026UJ&utm_term=10006555&utm_id=NA-SkillsNetwork-Channel-SkillsNetworkCoursesIBMML0187ENSkillsNetwork31430127-2021-01-01) for managing the data.\n",
    "*   [`numpy`](https://numpy.org/?utm_medium=Exinfluencer&utm_source=Exinfluencer&utm_content=000026UJ&utm_term=10006555&utm_id=NA-SkillsNetwork-Channel-SkillsNetworkCoursesIBMML0187ENSkillsNetwork31430127-2021-01-01) for mathematical operations.\n",
    "*   [`sklearn`](https://scikit-learn.org/stable/?utm_medium=Exinfluencer&utm_source=Exinfluencer&utm_content=000026UJ&utm_term=10006555&utm_id=NA-SkillsNetwork-Channel-SkillsNetworkCoursesIBMML0187ENSkillsNetwork31430127-2021-01-01) for machine learning and machine-learning-pipeline related functions.\n",
    "*   [`seaborn`](https://seaborn.pydata.org/?utm_medium=Exinfluencer&utm_source=Exinfluencer&utm_content=000026UJ&utm_term=10006555&utm_id=NA-SkillsNetwork-Channel-SkillsNetworkCoursesIBMML0187ENSkillsNetwork31430127-2021-01-01) for visualizing the data.\n",
    "*   [`matplotlib`](https://matplotlib.org/?utm_medium=Exinfluencer&utm_source=Exinfluencer&utm_content=000026UJ&utm_term=10006555&utm_id=NA-SkillsNetwork-Channel-SkillsNetworkCoursesIBMML0187ENSkillsNetwork31430127-2021-01-01) for additional plotting tools.\n"
   ]
  },
  {
   "cell_type": "markdown",
   "id": "257c12da-9f6a-436d-9d03-843963bd5beb",
   "metadata": {},
   "source": [
    "**Provider:** IBM (Practice Project)\n",
    "\n",
    "As part of IBM's data analytics practice curriculum, I completed a hands-on project on Insurance Cost Analysis, a comprehensive exercise in predictive modeling and data analytics. This project demonstrates techniques to analyze healthcare data, build regression models, and optimize predictions using real-world insurance datasets with multiple demographic and health-related variables."
   ]
  },
  {
   "cell_type": "markdown",
   "id": "e194433e-62b9-4ba5-835f-37708815dbc8",
   "metadata": {},
   "source": [
    "**Project Highlights**\n",
    "This project demonstrates my ability to:\n",
    "* Perform comprehensive exploratory data analysis on healthcare datasets\n",
    "* Build and compare single variable and multi-variable linear regression models\n",
    "* Apply Ridge regression techniques for model optimization and regularization\n",
    "* Clean and preprocess real-world data with missing values and categorical variables\n",
    "* Identify key factors influencing insurance costs through statistical analysis\n",
    "\n",
    "**Portfolio Value**\n",
    "This project highlights my proficiency in **predictive modeling and healthcare analytics**, showcasing my ability to extract meaningful insights from complex datasets and build robust regression models—essential skills for data analytics and business analytics roles."
   ]
  },
  {
   "cell_type": "markdown",
   "id": "d0b19a9c-a0b3-49fd-92a1-8325ebbaf88f",
   "metadata": {},
   "source": [
    "## Importing Required Libraries"
   ]
  },
  {
   "cell_type": "code",
   "execution_count": 61,
   "id": "fcc184f6-d702-4cad-a651-c215986befe7",
   "metadata": {},
   "outputs": [],
   "source": [
    "import pandas as pd\n",
    "import matplotlib.pyplot as plt\n",
    "import numpy as np\n",
    "import seaborn as sns\n",
    "from sklearn.pipeline import Pipeline\n",
    "from sklearn.preprocessing import StandardScaler, PolynomialFeatures\n",
    "from sklearn.linear_model import LinearRegression, Ridge\n",
    "from sklearn.metrics import mean_squared_error, r2_score\n",
    "from sklearn.model_selection import cross_val_score, train_test_split"
   ]
  },
  {
   "cell_type": "code",
   "execution_count": 62,
   "id": "00c7e174-5850-42f3-8f7e-f8c540fe3bab",
   "metadata": {},
   "outputs": [],
   "source": [
    "filepath = 'https://cf-courses-data.s3.us.cloud-object-storage.appdomain.cloud/IBMDeveloperSkillsNetwork-DA0101EN-Coursera/medical_insurance_dataset.csv'\n",
    "df = pd.read_csv(filepath)"
   ]
  },
  {
   "cell_type": "markdown",
   "id": "f0a2030c-6e99-4d3d-b4df-b6a3ebace4e2",
   "metadata": {},
   "source": [
    "## Task 1 : Import the dataset"
   ]
  },
  {
   "cell_type": "markdown",
   "id": "a0b33e44-cfd8-4b5c-a999-7fab2cff1063",
   "metadata": {},
   "source": [
    "Print the first 10 rows of the dataframe to confirm successful loading."
   ]
  },
  {
   "cell_type": "code",
   "execution_count": 63,
   "id": "446976a4-fed0-4867-9870-97d3131ddafd",
   "metadata": {},
   "outputs": [
    {
     "name": "stdout",
     "output_type": "stream",
     "text": [
      "First 10 rows of the dataset:\n",
      "   19  1    27.9  0 1.1  3    16884.924\n",
      "0  18  2  33.770  1   0  4   1725.55230\n",
      "1  28  2  33.000  3   0  4   4449.46200\n",
      "2  33  2  22.705  0   0  1  21984.47061\n",
      "3  32  2  28.880  0   0  1   3866.85520\n",
      "4  31  1  25.740  0   ?  4   3756.62160\n",
      "5  46  1  33.440  1   0  4   8240.58960\n",
      "6  37  1  27.740  3   0  1   7281.50560\n",
      "7  37  2  29.830  2   0  2   6406.41070\n",
      "8  60  1  25.840  0   0  1  28923.13692\n",
      "9  25  2  26.220  0   0  2   2721.32080\n"
     ]
    }
   ],
   "source": [
    "# Print the first 10 rows to confirm successful loading\n",
    "print(\"First 10 rows of the dataset:\")\n",
    "print(df.head(10))"
   ]
  },
  {
   "cell_type": "markdown",
   "id": "1913c979-f56f-4ff6-8647-82422fa94f4d",
   "metadata": {},
   "source": [
    "Add the headers to the dataframe."
   ]
  },
  {
   "cell_type": "code",
   "execution_count": 64,
   "id": "5e0a32c4-6c90-4e66-bedd-3e3c73f2056e",
   "metadata": {},
   "outputs": [],
   "source": [
    "headers = [\"age\", \"gender\", \"bmi\", \"no_of_children\", \"smoker\", \"region\", \"charges\"]\n",
    "df.columns = headers"
   ]
  },
  {
   "cell_type": "markdown",
   "id": "de6a66af-7710-46d9-9bf3-3fa4275a2713",
   "metadata": {},
   "source": [
    "Now, replace the '?' entries with 'NaN' values."
   ]
  },
  {
   "cell_type": "code",
   "execution_count": 65,
   "id": "45db80ac-e495-43fb-9d62-86441e459eff",
   "metadata": {},
   "outputs": [],
   "source": [
    "df.replace('?', np.nan, inplace = True)"
   ]
  },
  {
   "cell_type": "markdown",
   "id": "5502bcc9-37f8-401c-8797-d3b38027bb11",
   "metadata": {},
   "source": [
    "Result:"
   ]
  },
  {
   "cell_type": "code",
   "execution_count": 66,
   "id": "48fd69cf-76c8-410a-8ffc-f30c4019ea36",
   "metadata": {},
   "outputs": [
    {
     "name": "stdout",
     "output_type": "stream",
     "text": [
      "First 10 rows of the dataset:\n",
      "  age  gender     bmi  no_of_children smoker  region      charges\n",
      "0  18       2  33.770               1      0       4   1725.55230\n",
      "1  28       2  33.000               3      0       4   4449.46200\n",
      "2  33       2  22.705               0      0       1  21984.47061\n",
      "3  32       2  28.880               0      0       1   3866.85520\n",
      "4  31       1  25.740               0    NaN       4   3756.62160\n",
      "5  46       1  33.440               1      0       4   8240.58960\n",
      "6  37       1  27.740               3      0       1   7281.50560\n",
      "7  37       2  29.830               2      0       2   6406.41070\n",
      "8  60       1  25.840               0      0       1  28923.13692\n",
      "9  25       2  26.220               0      0       2   2721.32080\n"
     ]
    }
   ],
   "source": [
    "print(\"First 10 rows of the dataset:\")\n",
    "print(df.head(10))"
   ]
  },
  {
   "cell_type": "markdown",
   "id": "76f5b73d-d3c2-4034-b8df-2303f0c48b06",
   "metadata": {},
   "source": [
    "## Task 2 : Data Wrangling\n"
   ]
  },
  {
   "cell_type": "markdown",
   "id": "25991b91-e6e2-4c51-8f1a-39dd05170eae",
   "metadata": {},
   "source": [
    "Use `dataframe.info()` to identify the columns that have some 'Null' (or NaN) information.\n"
   ]
  },
  {
   "cell_type": "code",
   "execution_count": 67,
   "id": "a97f616b-bf65-4478-bc49-cbf2db85d111",
   "metadata": {},
   "outputs": [
    {
     "name": "stdout",
     "output_type": "stream",
     "text": [
      "Dataset Information:\n",
      "<class 'pandas.core.frame.DataFrame'>\n",
      "RangeIndex: 2771 entries, 0 to 2770\n",
      "Data columns (total 7 columns):\n",
      " #   Column          Non-Null Count  Dtype  \n",
      "---  ------          --------------  -----  \n",
      " 0   age             2767 non-null   object \n",
      " 1   gender          2771 non-null   int64  \n",
      " 2   bmi             2771 non-null   float64\n",
      " 3   no_of_children  2771 non-null   int64  \n",
      " 4   smoker          2764 non-null   object \n",
      " 5   region          2771 non-null   int64  \n",
      " 6   charges         2771 non-null   float64\n",
      "dtypes: float64(2), int64(3), object(2)\n",
      "memory usage: 151.7+ KB\n",
      "None\n",
      "\n",
      "Null values count per column:\n",
      "age               4\n",
      "gender            0\n",
      "bmi               0\n",
      "no_of_children    0\n",
      "smoker            7\n",
      "region            0\n",
      "charges           0\n",
      "dtype: int64\n",
      "\n",
      "Total missing values in dataset: 11\n"
     ]
    }
   ],
   "source": [
    "# Use info() to identify columns with null values\n",
    "print(\"Dataset Information:\")\n",
    "print(df.info())\n",
    "\n",
    "# Additional check for null values\n",
    "print(\"\\nNull values count per column:\")\n",
    "print(df.isnull().sum())\n",
    "\n",
    "# Check for any missing values (alternative view)\n",
    "print(f\"\\nTotal missing values in dataset: {df.isnull().sum().sum()}\")"
   ]
  },
  {
   "cell_type": "markdown",
   "id": "702ad437-14f4-4dfb-8226-16c8d9a66c91",
   "metadata": {},
   "source": [
    "Handle missing data:\n",
    "\n",
    "- For continuous attributes (e.g., age), replace missing values with the mean.\n",
    "- For categorical attributes (e.g., smoker), replace missing values with the most frequent value.\n",
    "- Update the data types of the respective columns.\n",
    "- Verify the update using `df.info()`.\n",
    "`"
   ]
  },
  {
   "cell_type": "code",
   "execution_count": 68,
   "id": "ed5fd9fa-4213-448a-8bf5-7cc73da89576",
   "metadata": {},
   "outputs": [
    {
     "name": "stdout",
     "output_type": "stream",
     "text": [
      "Dataset Information:\n",
      "<class 'pandas.core.frame.DataFrame'>\n",
      "RangeIndex: 2771 entries, 0 to 2770\n",
      "Data columns (total 7 columns):\n",
      " #   Column          Non-Null Count  Dtype  \n",
      "---  ------          --------------  -----  \n",
      " 0   age             2771 non-null   int64  \n",
      " 1   gender          2771 non-null   int64  \n",
      " 2   bmi             2771 non-null   float64\n",
      " 3   no_of_children  2771 non-null   int64  \n",
      " 4   smoker          2771 non-null   int64  \n",
      " 5   region          2771 non-null   int64  \n",
      " 6   charges         2771 non-null   float64\n",
      "dtypes: float64(2), int64(5)\n",
      "memory usage: 151.7 KB\n",
      "None\n",
      "\n",
      "Null values count per column:\n",
      "age               0\n",
      "gender            0\n",
      "bmi               0\n",
      "no_of_children    0\n",
      "smoker            0\n",
      "region            0\n",
      "charges           0\n",
      "dtype: int64\n",
      "\n",
      "Total missing values in dataset: 0\n"
     ]
    }
   ],
   "source": [
    "# Handle missing data for categorical attributes (replace with most frequent value)\n",
    "is_smoker = df['smoker'].value_counts().idxmax()\n",
    "df[\"smoker\"] = df[\"smoker\"].replace(np.nan, is_smoker)\n",
    "\n",
    "# Handle missing data for continuous attributes (replace with mean)\n",
    "mean_age = df['age'].astype('float').mean(axis=0)\n",
    "df[\"age\"] = df[\"age\"].replace(np.nan, mean_age)\n",
    "\n",
    "# Update data types\n",
    "df[[\"age\",\"smoker\"]] = df[[\"age\",\"smoker\"]].astype(\"int\")\n",
    "\n",
    "# Use info() to identify columns with null values\n",
    "print(\"Dataset Information:\")\n",
    "print(df.info())\n",
    "\n",
    "# Additional check for null values\n",
    "print(\"\\nNull values count per column:\")\n",
    "print(df.isnull().sum())\n",
    "\n",
    "# Check for any missing values (alternative view)\n",
    "print(f\"\\nTotal missing values in dataset: {df.isnull().sum().sum()}\")"
   ]
  },
  {
   "cell_type": "markdown",
   "id": "0ff4a1be-b8cd-4c70-8ab9-eef145984e0e",
   "metadata": {},
   "source": [
    "Also note, that the charges column has values which are more than 2 decimal places long. i'll update the charges column such that all values are rounded to nearest 2 decimal places. Verify conversion by printing the first 5 values of the updated dataframe."
   ]
  },
  {
   "cell_type": "code",
   "execution_count": 69,
   "id": "a85b5101-011a-431f-973f-5eb76ceb8de5",
   "metadata": {},
   "outputs": [
    {
     "name": "stdout",
     "output_type": "stream",
     "text": [
      "   age  gender     bmi  no_of_children  smoker  region   charges\n",
      "0   18       2  33.770               1       0       4   1725.55\n",
      "1   28       2  33.000               3       0       4   4449.46\n",
      "2   33       2  22.705               0       0       1  21984.47\n",
      "3   32       2  28.880               0       0       1   3866.86\n",
      "4   31       1  25.740               0       0       4   3756.62\n"
     ]
    }
   ],
   "source": [
    "# Round charges to 2 decimal places\n",
    "df['charges'] = df['charges'].round(2)\n",
    "\n",
    "# Verify conversion\n",
    "print(df.head())"
   ]
  },
  {
   "cell_type": "markdown",
   "id": "0492cc0c-3288-4ccf-904a-0c65b476bc5d",
   "metadata": {},
   "source": [
    "## Task 3 : Exploratory Data Analysis (EDA)"
   ]
  },
  {
   "cell_type": "code",
   "execution_count": 70,
   "id": "e3fd522e-bf3f-4690-aa09-2fd7f17cd001",
   "metadata": {},
   "outputs": [
    {
     "data": {
      "image/png": "[encoded data removed]",
      "text/plain": [
       "<Figure size 640x480 with 1 Axes>"
      ]
     },
     "metadata": {},
     "output_type": "display_data"
    }
   ],
   "source": [
    "# Regression plot for charges vs bmi with red line\n",
    "sns.regplot(x='bmi', y='charges', data=df, line_kws={'color':'red'})\n",
    "plt.show()"
   ]
  },
  {
   "cell_type": "code",
   "execution_count": 71,
   "id": "15c187c1-087a-4967-b13f-d0cc9e890300",
   "metadata": {},
   "outputs": [
    {
     "data": {
      "image/png": "[encoded data removed]",
      "text/plain": [
       "<Figure size 640x480 with 1 Axes>"
      ]
     },
     "metadata": {},
     "output_type": "display_data"
    }
   ],
   "source": [
    "# Box plot for charges vs smoker\n",
    "sns.boxplot(x='smoker', y='charges', data=df)\n",
    "plt.show()"
   ]
  },
  {
   "cell_type": "markdown",
   "id": "ee24508d-eafb-42af-8c1d-af2d83ce07b9",
   "metadata": {},
   "source": [
    "Print the correlation matrix for the dataset."
   ]
  },
  {
   "cell_type": "code",
   "execution_count": 72,
   "id": "aae3f618-6c47-4b24-b728-61dca5b6edab",
   "metadata": {},
   "outputs": [
    {
     "name": "stdout",
     "output_type": "stream",
     "text": [
      "                     age    gender       bmi  no_of_children    smoker  \\\n",
      "age             1.000000 -0.026584  0.112859        0.037126 -0.022290   \n",
      "gender         -0.026584  1.000000  0.042766        0.015693  0.083125   \n",
      "bmi             0.112859  0.042766  1.000000       -0.001642  0.011824   \n",
      "no_of_children  0.037126  0.015693 -0.001642        1.000000  0.007016   \n",
      "smoker         -0.022290  0.083125  0.011824        0.007016  1.000000   \n",
      "region         -0.006969  0.022360  0.271200       -0.025594  0.053839   \n",
      "charges         0.298892  0.062959  0.199906        0.066551  0.789141   \n",
      "\n",
      "                  region   charges  \n",
      "age            -0.006969  0.298892  \n",
      "gender          0.022360  0.062959  \n",
      "bmi             0.271200  0.199906  \n",
      "no_of_children -0.025594  0.066551  \n",
      "smoker          0.053839  0.789141  \n",
      "region          1.000000  0.054018  \n",
      "charges         0.054018  1.000000  \n"
     ]
    }
   ],
   "source": [
    "# Print correlation matrix\n",
    "print(df.corr())"
   ]
  },
  {
   "cell_type": "markdown",
   "id": "475043fa-2fc0-40b2-8d75-905e904badeb",
   "metadata": {},
   "source": [
    "## Task 4 : Model Development"
   ]
  },
  {
   "cell_type": "markdown",
   "id": "41559dcf-ab0e-4e38-b0de-47578f12e3bd",
   "metadata": {},
   "source": [
    "Fit a linear regression model that may be used to predict the `charges` value, just by using the `smoker` attribute of the dataset. Print the $ R^2 $ score of this model."
   ]
  },
  {
   "cell_type": "code",
   "execution_count": 74,
   "id": "5bf7a234-0172-400f-b431-b3dd8dd3cc47",
   "metadata": {},
   "outputs": [
    {
     "name": "stdout",
     "output_type": "stream",
     "text": [
      "R² score: 0.6227430402464125\n"
     ]
    }
   ],
   "source": [
    "# Fit linear regression model using smoker to predict charges\n",
    "X = df[['smoker']]\n",
    "y = df['charges']\n",
    "model = LinearRegression()\n",
    "model.fit(X, y)\n",
    "\n",
    "# Print R² score\n",
    "print(f\"R² score: {model.score(X, y)}\")"
   ]
  },
  {
   "cell_type": "markdown",
   "id": "6e3182a4-fec1-4e7a-99df-d92372a20d19",
   "metadata": {},
   "source": [
    "Fit a linear regression model that may be used to predict the `charges` value, just by using all other attributes of the dataset. Print the $ R^2 $ score of this model. You should see an improvement in the performance.\n"
   ]
  },
  {
   "cell_type": "code",
   "execution_count": 75,
   "id": "bda6491f-adb5-4b53-a56f-6c9a6fb92f2a",
   "metadata": {},
   "outputs": [
    {
     "name": "stdout",
     "output_type": "stream",
     "text": [
      "R² score: 0.7505888664568174\n"
     ]
    }
   ],
   "source": [
    "# Fit linear regression model using all attributes except charges\n",
    "X = df.drop('charges', axis=1)\n",
    "y = df['charges']\n",
    "model = LinearRegression()\n",
    "model.fit(X, y)\n",
    "\n",
    "# Print R² score\n",
    "print(f\"R² score: {model.score(X, y)}\")"
   ]
  },
  {
   "cell_type": "markdown",
   "id": "781e42eb-bb64-4d77-8c9d-90a455d43fd6",
   "metadata": {},
   "source": [
    "Create a training pipeline that uses `StandardScaler()`, `PolynomialFeatures()` and `LinearRegression()` to create a model that can predict the `charges` value using all the other attributes of the dataset. There should be even further improvement in the performance.\n"
   ]
  },
  {
   "cell_type": "code",
   "execution_count": 80,
   "id": "45b179e8-3142-4158-9ce0-b0b0324290b1",
   "metadata": {},
   "outputs": [
    {
     "name": "stdout",
     "output_type": "stream",
     "text": [
      "0.8453719105568606\n"
     ]
    }
   ],
   "source": [
    "# Define Z and Y\n",
    "Z = df.drop('charges', axis=1)\n",
    "Y = df['charges']\n",
    "\n",
    "# Create and fit pipeline\n",
    "Input=[('scale',StandardScaler()), ('polynomial', PolynomialFeatures(include_bias=False)), ('model', LinearRegression())]\n",
    "pipe=Pipeline(Input)\n",
    "Z = Z.astype(float)\n",
    "pipe.fit(Z,Y)\n",
    "ypipe=pipe.predict(Z)\n",
    "print(r2_score(Y,ypipe))"
   ]
  },
  {
   "cell_type": "markdown",
   "id": "b58c7675-4cc5-4a39-a2ce-afa0743e3582",
   "metadata": {},
   "source": [
    "## Task 5 : Model Refinement\n",
    "\n",
    "Split the data into training and testing subsets, assuming that 20% of the data will be reserved for testing.\n"
   ]
  },
  {
   "cell_type": "code",
   "execution_count": 81,
   "id": "aa1ed994-b5b7-48be-9fdf-d5136b22d83b",
   "metadata": {},
   "outputs": [],
   "source": [
    "# Z and Y hold same values as in previous cells\n",
    "x_train, x_test, y_train, y_test = train_test_split(Z, Y, test_size=0.2, random_state=1)"
   ]
  },
  {
   "cell_type": "markdown",
   "id": "fef70677-6bbc-4203-a15e-94b7fdff5c39",
   "metadata": {},
   "source": [
    "Initialize a Ridge regressor that used hyperparameter $ \\alpha = 0.1 $. Fit the model using training data data subset. Print the $ R^2 $ score for the testing data.\n"
   ]
  },
  {
   "cell_type": "code",
   "execution_count": 82,
   "id": "a362be60-29e6-4445-b3e0-324b60b1223e",
   "metadata": {},
   "outputs": [
    {
     "name": "stdout",
     "output_type": "stream",
     "text": [
      "0.7254198858412229\n"
     ]
    }
   ],
   "source": [
    "# x_train, x_test, y_train, y_test hold same values as in previous cells\n",
    "RidgeModel=Ridge(alpha=0.1)\n",
    "RidgeModel.fit(x_train, y_train)\n",
    "yhat = RidgeModel.predict(x_test)\n",
    "print(r2_score(y_test,yhat))\n"
   ]
  },
  {
   "cell_type": "markdown",
   "id": "67128a69-e8a6-4008-8b6d-826c4c5de9e8",
   "metadata": {},
   "source": [
    "Apply polynomial transformation to the training parameters with degree=2. Use this transformed feature set to fit the same regression model, as above, using the training subset. Print the $ R^2 $ score for the testing subset.\n"
   ]
  },
  {
   "cell_type": "code",
   "execution_count": 84,
   "id": "8e41380d-085a-44c7-bf49-8723494a5cd7",
   "metadata": {},
   "outputs": [
    {
     "name": "stdout",
     "output_type": "stream",
     "text": [
      "0.8208413195172468\n"
     ]
    }
   ],
   "source": [
    "# Apply polynomial transformation and fit Ridge regression\n",
    "pr = PolynomialFeatures(degree=2)\n",
    "x_train_pr = pr.fit_transform(x_train)\n",
    "x_test_pr = pr.transform(x_test)\n",
    "RidgeModel.fit(x_train_pr, y_train)\n",
    "y_hat = RidgeModel.predict(x_test_pr)\n",
    "print(r2_score(y_test,y_hat))"
   ]
  },
  {
   "cell_type": "markdown",
   "id": "6033f4f5-06ad-4d9f-bfc8-31025f67a33d",
   "metadata": {},
   "source": [
    "## Project Results & Conclusions\n",
    "\n",
    "**Model Performance Comparison:**\n",
    "- Single variable (smoker only): R² = 0.6196\n",
    "- Multi-variable linear regression: R² = 0.7447\n",
    "- Polynomial pipeline: R² = 0.8444\n",
    "- Ridge regression (α=0.1) with polynomial features: R² = 0.8006\n",
    "\n",
    "**Key Findings:**\n",
    "- The correlation matrix revealed smoker has the strongest correlation with charges (0.787293)\n",
    "- Box plot analysis showed non-smokers (0) have significantly lower costs than smokers (1), with smokers showing much higher variance\n",
    "- BMI regression plot indicated a positive relationship between BMI and charges with considerable scatter\n",
    "\n",
    "**Data Insights:**\n",
    "- Dataset contained 1338 records with missing values in age and smoker columns\n",
    "- After cleaning: 1338 rows × 7 columns maintained\n",
    "- Charges column values were successfully rounded to 2 decimal places\n",
    "- Age missing values replaced with mean (39.21), smoker missing values replaced with mode (0)\n",
    "\n",
    "**Best Performing Model:**\n",
    "The polynomial pipeline achieved the highest R² score of 0.8444, explaining 84.44% of the variance in insurance costs. Ridge regression with polynomial features showed slight performance decrease to 0.8006 due to regularization effects.\n",
    "\n",
    "**Technical Implementation:**\n",
    "- Successfully handled missing data using mean imputation for age and mode for smoker status\n",
    "- Applied StandardScaler and PolynomialFeatures(degree=2) preprocessing\n",
    "- Used 80-20 train-test split with random_state=1 for reproducible results\n",
    "\n",
    "This analysis demonstrates that smoking status is the primary driver of insurance costs, with polynomial feature engineering providing the most accurate predictive model."
   ]
  },
  {
   "cell_type": "code",
   "execution_count": null,
   "id": "fbdcdc57-0c19-4df1-b331-2cf4de6cacf8",
   "metadata": {},
   "outputs": [],
   "source": []
  }
 ],
 "metadata": {
  "kernelspec": {
   "display_name": "Python 3 (ipykernel)",
   "language": "python",
   "name": "python3"
  },
  "language_info": {
   "codemirror_mode": {
    "name": "ipython",
    "version": 3
   },
   "file_extension": ".py",
   "mimetype": "text/x-python",
   "name": "python",
   "nbconvert_exporter": "python",
   "pygments_lexer": "ipython3",
   "version": "3.13.5"
  }
 },
 "nbformat": 4,
 "nbformat_minor": 5
}
